{
 "cells": [
  {
   "cell_type": "code",
   "execution_count": 6,
   "id": "8434f48a",
   "metadata": {},
   "outputs": [
    {
     "name": "stdout",
     "output_type": "stream",
     "text": [
      "ABCDE67890\n",
      "PythonWorld\n"
     ]
    }
   ],
   "source": [
    "print(\"1234567890\\rABCDE\")\n",
    "print(\"Hello World\\rPython\")"
   ]
  },
  {
   "cell_type": "code",
   "execution_count": 2,
   "id": "6f74906d",
   "metadata": {},
   "outputs": [
    {
     "name": "stdout",
     "output_type": "stream",
     "text": [
      "Done!      .\n"
     ]
    }
   ],
   "source": [
    "import time\n",
    "print(\"Loading\", end=\"\")\n",
    "for i in range(5):\n",
    "    print(\".\", end=\"\", flush=True)\n",
    "    time.sleep(0.5)\n",
    "print(\"\\rDone!      \")"
   ]
  }
 ],
 "metadata": {
  "kernelspec": {
   "display_name": "Python 3",
   "language": "python",
   "name": "python3"
  },
  "language_info": {
   "codemirror_mode": {
    "name": "ipython",
    "version": 3
   },
   "file_extension": ".py",
   "mimetype": "text/x-python",
   "name": "python",
   "nbconvert_exporter": "python",
   "pygments_lexer": "ipython3",
   "version": "3.13.3"
  }
 },
 "nbformat": 4,
 "nbformat_minor": 5
}

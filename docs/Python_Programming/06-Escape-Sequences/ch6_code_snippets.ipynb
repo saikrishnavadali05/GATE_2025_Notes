{
 "cells": [
  {
   "cell_type": "markdown",
   "id": "a55057ed",
   "metadata": {},
   "source": [
    "### Newline Escape Sequence : \\n"
   ]
  },
  {
   "cell_type": "code",
   "execution_count": 6,
   "id": "b11b69ec",
   "metadata": {},
   "outputs": [
    {
     "name": "stdout",
     "output_type": "stream",
     "text": [
      "Hello\n",
      "World\n"
     ]
    }
   ],
   "source": [
    "print(\"Hello\\nWorld\")"
   ]
  },
  {
   "cell_type": "code",
   "execution_count": 2,
   "id": "a72253b2",
   "metadata": {},
   "outputs": [
    {
     "name": "stdout",
     "output_type": "stream",
     "text": [
      "Line 1\n",
      "Line 2\n",
      "Line 3\n"
     ]
    }
   ],
   "source": [
    "print(\"Line 1\\nLine 2\\nLine 3\")"
   ]
  },
  {
   "cell_type": "code",
   "execution_count": 3,
   "id": "71f362ee",
   "metadata": {},
   "outputs": [
    {
     "name": "stdout",
     "output_type": "stream",
     "text": [
      "First Line\n",
      "Second Line\n"
     ]
    }
   ],
   "source": [
    "message = \"First Line\\nSecond Line\"\n",
    "print(message)"
   ]
  },
  {
   "cell_type": "code",
   "execution_count": 4,
   "id": "1d71dc74",
   "metadata": {},
   "outputs": [
    {
     "name": "stdout",
     "output_type": "stream",
     "text": [
      "Name:\n",
      "John Doe\n",
      "Age:\n",
      "30\n"
     ]
    }
   ],
   "source": [
    "print(\"Name:\\nJohn Doe\\nAge:\\n30\")"
   ]
  },
  {
   "cell_type": "code",
   "execution_count": 5,
   "id": "c93c95da",
   "metadata": {},
   "outputs": [
    {
     "name": "stdout",
     "output_type": "stream",
     "text": [
      "This is line one.\n",
      "This is line two.\n",
      "This is line three.\n"
     ]
    }
   ],
   "source": [
    "multiline_text = \"\"\"This is line one.\n",
    "This is line two.\n",
    "This is line three.\"\"\"\n",
    "print(multiline_text)"
   ]
  },
  {
   "cell_type": "markdown",
   "id": "a02f7154",
   "metadata": {},
   "source": [
    "### Carriage Return \\r Escape Sequence"
   ]
  },
  {
   "cell_type": "code",
   "execution_count": 7,
   "id": "ccfa6816",
   "metadata": {},
   "outputs": [
    {
     "name": "stdout",
     "output_type": "stream",
     "text": [
      "PythonWorld\n"
     ]
    }
   ],
   "source": [
    "print(\"Hello World\\rPython\")"
   ]
  },
  {
   "cell_type": "code",
   "execution_count": 8,
   "id": "166b3be1",
   "metadata": {},
   "outputs": [
    {
     "name": "stdout",
     "output_type": "stream",
     "text": [
      "ABCDE67890\n"
     ]
    }
   ],
   "source": [
    "print(\"1234567890\\rABCDE\")"
   ]
  },
  {
   "cell_type": "code",
   "execution_count": 9,
   "id": "3a97e7bb",
   "metadata": {},
   "outputs": [
    {
     "name": "stdout",
     "output_type": "stream",
     "text": [
      "Done!      .\n"
     ]
    }
   ],
   "source": [
    "import time\n",
    "print(\"Loading\", end=\"\")\n",
    "for i in range(5):\n",
    "    print(\".\", end=\"\", flush=True)\n",
    "    time.sleep(0.5)\n",
    "print(\"\\rDone!      \")"
   ]
  },
  {
   "cell_type": "code",
   "execution_count": 10,
   "id": "5ae0545b",
   "metadata": {},
   "outputs": [
    {
     "name": "stdout",
     "output_type": "stream",
     "text": [
      "Byelo\n"
     ]
    }
   ],
   "source": [
    "text = \"Hello\\rBye\"\n",
    "print(text)"
   ]
  },
  {
   "cell_type": "code",
   "execution_count": 11,
   "id": "5936bb5f",
   "metadata": {},
   "outputs": [
    {
     "name": "stdout",
     "output_type": "stream",
     "text": [
      "SecondLine\n",
      "Third Line\n"
     ]
    }
   ],
   "source": [
    "print(\"First Line\\rSecond\\r\\nThird Line\")"
   ]
  },
  {
   "cell_type": "markdown",
   "id": "b8f0a67d",
   "metadata": {},
   "source": [
    "### Backspace \\b Escape Sequence"
   ]
  },
  {
   "cell_type": "code",
   "execution_count": 12,
   "id": "4702fd09",
   "metadata": {},
   "outputs": [
    {
     "name": "stdout",
     "output_type": "stream",
     "text": [
      "Hell\n"
     ]
    }
   ],
   "source": [
    "# Example 1: Removing last character\n",
    "print(\"Hello\\b\")"
   ]
  },
  {
   "cell_type": "code",
   "execution_count": 14,
   "id": "76a2bde6",
   "metadata": {},
   "outputs": [
    {
     "name": "stdout",
     "output_type": "stream",
     "text": [
      "Pytho\n"
     ]
    }
   ],
   "source": [
    "# Example 2: Removing multiple characters\n",
    "print(\"Python\\b\\b\\b\")"
   ]
  },
  {
   "cell_type": "code",
   "execution_count": 15,
   "id": "2af25fda",
   "metadata": {},
   "outputs": [
    {
     "name": "stdout",
     "output_type": "stream",
     "text": [
      "12346\n"
     ]
    }
   ],
   "source": [
    "# Example 3: Backspace in the middle of string (overwrites previous char)\n",
    "print(\"12345\\b6\")"
   ]
  },
  {
   "cell_type": "code",
   "execution_count": 16,
   "id": "128cb993",
   "metadata": {},
   "outputs": [
    {
     "name": "stdout",
     "output_type": "stream",
     "text": [
      "ABCXY\n"
     ]
    }
   ],
   "source": [
    "# Example 4: Using backspace to erase and replace characters\n",
    "print(\"ABCDE\\b\\bXY\")"
   ]
  },
  {
   "cell_type": "code",
   "execution_count": null,
   "id": "dbeb8717",
   "metadata": {},
   "outputs": [
    {
     "name": "stdout",
     "output_type": "stream",
     "text": [
      "A\tBD\n"
     ]
    }
   ],
   "source": [
    "# Example 5: Backspace with multiple tabs and spaces\n",
    "print(\"A\\tB\\tC\\b\\bD\") # Output will be accurate in python terminal only not in jupyter notebook"
   ]
  },
  {
   "cell_type": "markdown",
   "id": "9b300d56",
   "metadata": {},
   "source": [
    "### Backslash Escape Sequence"
   ]
  },
  {
   "cell_type": "code",
   "execution_count": 7,
   "id": "2f07a8d3",
   "metadata": {},
   "outputs": [
    {
     "name": "stdout",
     "output_type": "stream",
     "text": [
      "This is a backslash: \\\n"
     ]
    }
   ],
   "source": [
    "print(\"This is a backslash: \\\\\")"
   ]
  },
  {
   "cell_type": "code",
   "execution_count": 8,
   "id": "040bbb51",
   "metadata": {},
   "outputs": [
    {
     "name": "stdout",
     "output_type": "stream",
     "text": [
      "C:\\Users\\Admin\\Documents\n"
     ]
    }
   ],
   "source": [
    "print(\"C:\\\\Users\\\\Admin\\\\Documents\")"
   ]
  },
  {
   "cell_type": "code",
   "execution_count": 13,
   "id": "7691f426",
   "metadata": {},
   "outputs": [
    {
     "name": "stdout",
     "output_type": "stream",
     "text": [
      "C:\\\\Users\\\\Admin\\\\Documents\n"
     ]
    }
   ],
   "source": [
    "print(r\"C:\\\\Users\\\\Admin\\\\Documents\")"
   ]
  },
  {
   "cell_type": "code",
   "execution_count": 18,
   "id": "9f217693",
   "metadata": {},
   "outputs": [
    {
     "name": "stdout",
     "output_type": "stream",
     "text": [
      "Hello, world!\n"
     ]
    }
   ],
   "source": [
    "print(\"Hello, \" \\\n",
    "      \"world!\")"
   ]
  },
  {
   "cell_type": "markdown",
   "id": "a9c986e6",
   "metadata": {},
   "source": [
    "### Escape Sequence: Double Quote (\")"
   ]
  },
  {
   "cell_type": "code",
   "execution_count": 19,
   "id": "d7569ae4",
   "metadata": {},
   "outputs": [
    {
     "name": "stdout",
     "output_type": "stream",
     "text": [
      "She said, \"Hello!\"\n"
     ]
    }
   ],
   "source": [
    "# Example 1: Including double quotes inside a string\n",
    "print(\"She said, \\\"Hello!\\\"\")"
   ]
  },
  {
   "cell_type": "code",
   "execution_count": 20,
   "id": "53fc6bb3",
   "metadata": {},
   "outputs": [
    {
     "name": "stdout",
     "output_type": "stream",
     "text": [
      "The sign read: \"No Entry\"\n"
     ]
    }
   ],
   "source": [
    "quote = \"The sign read: \\\"No Entry\\\"\"\n",
    "print(quote)"
   ]
  },
  {
   "cell_type": "code",
   "execution_count": 21,
   "id": "a9599f8f",
   "metadata": {},
   "outputs": [
    {
     "name": "stdout",
     "output_type": "stream",
     "text": [
      "He replied, \"That's great!\"\n"
     ]
    }
   ],
   "source": [
    "print(\"He replied, \\\"That's great!\\\"\")"
   ]
  },
  {
   "cell_type": "code",
   "execution_count": 22,
   "id": "0e9fefc6",
   "metadata": {},
   "outputs": [
    {
     "name": "stdout",
     "output_type": "stream",
     "text": [
      "This is a \"quoted\" word\n"
     ]
    }
   ],
   "source": [
    "text = \"This is a \\\"quoted\\\" word\"\n",
    "print(text)\n"
   ]
  },
  {
   "cell_type": "code",
   "execution_count": 23,
   "id": "3bdc5c02",
   "metadata": {},
   "outputs": [
    {
     "name": "stdout",
     "output_type": "stream",
     "text": [
      "{\"name\": \"John\", \"age\": 30}\n"
     ]
    }
   ],
   "source": [
    "# Example 5: Escaping quotes in file paths or JSON strings\n",
    "json_str = \"{\\\"name\\\": \\\"John\\\", \\\"age\\\": 30}\"\n",
    "print(json_str)"
   ]
  },
  {
   "cell_type": "markdown",
   "id": "1b419b26",
   "metadata": {},
   "source": [
    "### Escape Sequence: Single Quote (')"
   ]
  },
  {
   "cell_type": "code",
   "execution_count": 24,
   "id": "d84cb16d",
   "metadata": {},
   "outputs": [
    {
     "name": "stdout",
     "output_type": "stream",
     "text": [
      "It's a beautiful day!\n"
     ]
    }
   ],
   "source": [
    "# Example 1: Including single quote inside a string\n",
    "print('It\\'s a beautiful day!')\n"
   ]
  },
  {
   "cell_type": "code",
   "execution_count": 25,
   "id": "ff5a1e09",
   "metadata": {},
   "outputs": [
    {
     "name": "stdout",
     "output_type": "stream",
     "text": [
      "She said, 'Hello there!'\n"
     ]
    }
   ],
   "source": [
    "# Example 2: Single quotes inside a sentence\n",
    "sentence = 'She said, \\'Hello there!\\''\n",
    "print(sentence)\n"
   ]
  },
  {
   "cell_type": "code",
   "execution_count": 26,
   "id": "e095e83b",
   "metadata": {},
   "outputs": [
    {
     "name": "stdout",
     "output_type": "stream",
     "text": [
      "It's John's book.\n"
     ]
    }
   ],
   "source": [
    "# Example 3: Using escape to include multiple single quotes\n",
    "print('It\\'s John\\'s book.')\n"
   ]
  },
  {
   "cell_type": "code",
   "execution_count": 27,
   "id": "a7ae5dca",
   "metadata": {},
   "outputs": [
    {
     "name": "stdout",
     "output_type": "stream",
     "text": [
      "That's \"amazing\"!\n"
     ]
    }
   ],
   "source": [
    "# Example 4: Using single quotes inside single-quoted string with escapes\n",
    "text = 'That\\'s \"amazing\"!'\n",
    "print(text)"
   ]
  },
  {
   "cell_type": "code",
   "execution_count": 28,
   "id": "1e669c0e",
   "metadata": {},
   "outputs": [
    {
     "name": "stdout",
     "output_type": "stream",
     "text": [
      "Don't stop believing.\n"
     ]
    }
   ],
   "source": [
    "# Example 5: Escaping quotes in contractions or possessives\n",
    "contracted = 'Don\\'t stop believing.'\n",
    "print(contracted)"
   ]
  },
  {
   "cell_type": "markdown",
   "id": "a8b1d6a7",
   "metadata": {},
   "source": [
    "### Escape Sequence: Tab (\\t)"
   ]
  },
  {
   "cell_type": "code",
   "execution_count": 29,
   "id": "dbb77b43",
   "metadata": {},
   "outputs": [
    {
     "name": "stdout",
     "output_type": "stream",
     "text": [
      "Name:\tJohn\n"
     ]
    }
   ],
   "source": [
    "# Example 1: Simple tab space between words\n",
    "print(\"Name:\\tJohn\")"
   ]
  },
  {
   "cell_type": "code",
   "execution_count": 30,
   "id": "6acd3923",
   "metadata": {},
   "outputs": [
    {
     "name": "stdout",
     "output_type": "stream",
     "text": [
      "Item\tPrice\n",
      "Pen\t$1.20\n",
      "Notebook\t$2.50\n"
     ]
    }
   ],
   "source": [
    "# Example 2: Tab used for columns alignment\n",
    "print(\"Item\\tPrice\")\n",
    "print(\"Pen\\t$1.20\")\n",
    "print(\"Notebook\\t$2.50\")"
   ]
  },
  {
   "cell_type": "code",
   "execution_count": 31,
   "id": "ca9cb1e9",
   "metadata": {},
   "outputs": [
    {
     "name": "stdout",
     "output_type": "stream",
     "text": [
      "A\t\tB\t\tC\n"
     ]
    }
   ],
   "source": [
    "# Example 3: Multiple tabs for more spacing\n",
    "print(\"A\\t\\tB\\t\\tC\")"
   ]
  },
  {
   "cell_type": "code",
   "execution_count": 32,
   "id": "6409dfa9",
   "metadata": {},
   "outputs": [
    {
     "name": "stdout",
     "output_type": "stream",
     "text": [
      "Hello\tWorld!\n"
     ]
    }
   ],
   "source": [
    "# Example 4: Tab inside a sentence\n",
    "print(\"Hello\\tWorld!\")"
   ]
  },
  {
   "cell_type": "code",
   "execution_count": 33,
   "id": "7407aa76",
   "metadata": {},
   "outputs": [
    {
     "name": "stdout",
     "output_type": "stream",
     "text": [
      "Apple\tBanana\tCherry\n"
     ]
    }
   ],
   "source": [
    "# Example 5: Using tab to format a list\n",
    "items = \"Apple\\tBanana\\tCherry\"\n",
    "print(items)"
   ]
  }
 ],
 "metadata": {
  "kernelspec": {
   "display_name": "Python 3",
   "language": "python",
   "name": "python3"
  },
  "language_info": {
   "codemirror_mode": {
    "name": "ipython",
    "version": 3
   },
   "file_extension": ".py",
   "mimetype": "text/x-python",
   "name": "python",
   "nbconvert_exporter": "python",
   "pygments_lexer": "ipython3",
   "version": "3.13.3"
  }
 },
 "nbformat": 4,
 "nbformat_minor": 5
}

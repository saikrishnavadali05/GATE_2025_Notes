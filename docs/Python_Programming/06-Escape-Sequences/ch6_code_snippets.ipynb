{
 "cells": [
  {
   "cell_type": "markdown",
   "id": "a55057ed",
   "metadata": {},
   "source": [
    "### Newline Escape Sequence : \\n"
   ]
  },
  {
   "cell_type": "code",
   "execution_count": 6,
   "id": "b11b69ec",
   "metadata": {},
   "outputs": [
    {
     "name": "stdout",
     "output_type": "stream",
     "text": [
      "Hello\n",
      "World\n"
     ]
    }
   ],
   "source": [
    "print(\"Hello\\nWorld\")"
   ]
  },
  {
   "cell_type": "code",
   "execution_count": 2,
   "id": "a72253b2",
   "metadata": {},
   "outputs": [
    {
     "name": "stdout",
     "output_type": "stream",
     "text": [
      "Line 1\n",
      "Line 2\n",
      "Line 3\n"
     ]
    }
   ],
   "source": [
    "print(\"Line 1\\nLine 2\\nLine 3\")"
   ]
  },
  {
   "cell_type": "code",
   "execution_count": 3,
   "id": "71f362ee",
   "metadata": {},
   "outputs": [
    {
     "name": "stdout",
     "output_type": "stream",
     "text": [
      "First Line\n",
      "Second Line\n"
     ]
    }
   ],
   "source": [
    "message = \"First Line\\nSecond Line\"\n",
    "print(message)"
   ]
  },
  {
   "cell_type": "code",
   "execution_count": 4,
   "id": "1d71dc74",
   "metadata": {},
   "outputs": [
    {
     "name": "stdout",
     "output_type": "stream",
     "text": [
      "Name:\n",
      "John Doe\n",
      "Age:\n",
      "30\n"
     ]
    }
   ],
   "source": [
    "print(\"Name:\\nJohn Doe\\nAge:\\n30\")"
   ]
  },
  {
   "cell_type": "code",
   "execution_count": 5,
   "id": "c93c95da",
   "metadata": {},
   "outputs": [
    {
     "name": "stdout",
     "output_type": "stream",
     "text": [
      "This is line one.\n",
      "This is line two.\n",
      "This is line three.\n"
     ]
    }
   ],
   "source": [
    "multiline_text = \"\"\"This is line one.\n",
    "This is line two.\n",
    "This is line three.\"\"\"\n",
    "print(multiline_text)"
   ]
  },
  {
   "cell_type": "markdown",
   "id": "a02f7154",
   "metadata": {},
   "source": [
    "### Carriage Return \\r Escape Sequence"
   ]
  },
  {
   "cell_type": "code",
   "execution_count": 7,
   "id": "ccfa6816",
   "metadata": {},
   "outputs": [
    {
     "name": "stdout",
     "output_type": "stream",
     "text": [
      "PythonWorld\n"
     ]
    }
   ],
   "source": [
    "print(\"Hello World\\rPython\")"
   ]
  },
  {
   "cell_type": "code",
   "execution_count": 8,
   "id": "166b3be1",
   "metadata": {},
   "outputs": [
    {
     "name": "stdout",
     "output_type": "stream",
     "text": [
      "ABCDE67890\n"
     ]
    }
   ],
   "source": [
    "print(\"1234567890\\rABCDE\")"
   ]
  },
  {
   "cell_type": "code",
   "execution_count": 9,
   "id": "3a97e7bb",
   "metadata": {},
   "outputs": [
    {
     "name": "stdout",
     "output_type": "stream",
     "text": [
      "Done!      .\n"
     ]
    }
   ],
   "source": [
    "import time\n",
    "print(\"Loading\", end=\"\")\n",
    "for i in range(5):\n",
    "    print(\".\", end=\"\", flush=True)\n",
    "    time.sleep(0.5)\n",
    "print(\"\\rDone!      \")"
   ]
  },
  {
   "cell_type": "code",
   "execution_count": 10,
   "id": "5ae0545b",
   "metadata": {},
   "outputs": [
    {
     "name": "stdout",
     "output_type": "stream",
     "text": [
      "Byelo\n"
     ]
    }
   ],
   "source": [
    "text = \"Hello\\rBye\"\n",
    "print(text)"
   ]
  },
  {
   "cell_type": "code",
   "execution_count": 11,
   "id": "5936bb5f",
   "metadata": {},
   "outputs": [
    {
     "name": "stdout",
     "output_type": "stream",
     "text": [
      "SecondLine\n",
      "Third Line\n"
     ]
    }
   ],
   "source": [
    "print(\"First Line\\rSecond\\r\\nThird Line\")"
   ]
  },
  {
   "cell_type": "markdown",
   "id": "b8f0a67d",
   "metadata": {},
   "source": [
    "### Backspace \\b Escape Sequence"
   ]
  },
  {
   "cell_type": "code",
   "execution_count": 12,
   "id": "4702fd09",
   "metadata": {},
   "outputs": [
    {
     "name": "stdout",
     "output_type": "stream",
     "text": [
      "Hell\n"
     ]
    }
   ],
   "source": [
    "# Example 1: Removing last character\n",
    "print(\"Hello\\b\")"
   ]
  },
  {
   "cell_type": "code",
   "execution_count": 14,
   "id": "76a2bde6",
   "metadata": {},
   "outputs": [
    {
     "name": "stdout",
     "output_type": "stream",
     "text": [
      "Pytho\n"
     ]
    }
   ],
   "source": [
    "# Example 2: Removing multiple characters\n",
    "print(\"Python\\b\\b\\b\")"
   ]
  },
  {
   "cell_type": "code",
   "execution_count": 15,
   "id": "2af25fda",
   "metadata": {},
   "outputs": [
    {
     "name": "stdout",
     "output_type": "stream",
     "text": [
      "12346\n"
     ]
    }
   ],
   "source": [
    "# Example 3: Backspace in the middle of string (overwrites previous char)\n",
    "print(\"12345\\b6\")"
   ]
  },
  {
   "cell_type": "code",
   "execution_count": 16,
   "id": "128cb993",
   "metadata": {},
   "outputs": [
    {
     "name": "stdout",
     "output_type": "stream",
     "text": [
      "ABCXY\n"
     ]
    }
   ],
   "source": [
    "# Example 4: Using backspace to erase and replace characters\n",
    "print(\"ABCDE\\b\\bXY\")"
   ]
  },
  {
   "cell_type": "code",
   "execution_count": null,
   "id": "dbeb8717",
   "metadata": {},
   "outputs": [
    {
     "name": "stdout",
     "output_type": "stream",
     "text": [
      "A\tBD\n"
     ]
    }
   ],
   "source": [
    "# Example 5: Backspace with multiple tabs and spaces\n",
    "print(\"A\\tB\\tC\\b\\bD\") # Output will be accurate in python terminal only not in jupyter notebook"
   ]
  }
 ],
 "metadata": {
  "kernelspec": {
   "display_name": "Python 3",
   "language": "python",
   "name": "python3"
  },
  "language_info": {
   "codemirror_mode": {
    "name": "ipython",
    "version": 3
   },
   "file_extension": ".py",
   "mimetype": "text/x-python",
   "name": "python",
   "nbconvert_exporter": "python",
   "pygments_lexer": "ipython3",
   "version": "3.13.3"
  }
 },
 "nbformat": 4,
 "nbformat_minor": 5
}

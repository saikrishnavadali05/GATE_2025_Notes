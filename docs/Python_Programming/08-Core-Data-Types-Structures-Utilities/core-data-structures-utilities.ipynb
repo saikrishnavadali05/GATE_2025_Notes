{
 "cells": [
  {
   "cell_type": "markdown",
   "id": "d820c7f1",
   "metadata": {},
   "source": [
    "Chapter 8 Overview: Core Data Structures in Python"
   ]
  },
  {
   "cell_type": "code",
   "execution_count": null,
   "id": "a3c2d545",
   "metadata": {},
   "outputs": [],
   "source": []
  }
 ],
 "metadata": {
  "language_info": {
   "name": "python"
  }
 },
 "nbformat": 4,
 "nbformat_minor": 5
}
